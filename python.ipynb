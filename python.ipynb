{
  "nbformat": 4,
  "nbformat_minor": 0,
  "metadata": {
    "colab": {
      "name": "python.ipynb",
      "provenance": []
    },
    "kernelspec": {
      "name": "python3",
      "display_name": "Python 3"
    },
    "language_info": {
      "name": "python"
    }
  },
  "cells": [
    {
      "cell_type": "code",
      "metadata": {
        "colab": {
          "base_uri": "https://localhost:8080/"
        },
        "id": "2-2j4EP9Pm0o",
        "outputId": "d60a3cf1-dbc1-4e25-c310-582c11a74d84"
      },
      "source": [
        "import hashlib\n",
        "  \n",
        "str2hash = \"harsh\"\n",
        "  \n",
        "\n",
        "result = hashlib.md5(str2hash.encode())\n",
        "  \n",
        "print(\"The hexadecimal equivalent of hash is : \", end =\"\")\n",
        "print(result.hexdigest())"
      ],
      "execution_count": 1,
      "outputs": [
        {
          "output_type": "stream",
          "text": [
            "The hexadecimal equivalent of hash is : d4e3730e8cba214f85cddae5f9331d74\n"
          ],
          "name": "stdout"
        }
      ]
    }
  ]
}